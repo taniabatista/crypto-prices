{
 "cells": [
  {
   "attachments": {
    "image-3.png": {
     "image/png": "[encoded data removed]"
    }
   },
   "cell_type": "markdown",
   "id": "873dab4d",
   "metadata": {
    "pycharm": {
     "name": "#%% md\n"
    }
   },
   "source": [
    "# <center> SHAKEPAY ASSIGNMENT </center>\n",
    "\n",
    "https://shakepay.github.io/programming-exercise/web/\n",
    "\n",
    "---\n",
    "## GOAL\n",
    "\n",
    "### Build a UI that displays the change of your net worth over time\n",
    "\n",
    "![image-3.png](attachment:image-3.png)\n",
    "\n",
    "---\n",
    "\n",
    "## RESOURCES\n",
    "\n",
    "\n",
    "### API: Conversion rates for BTC/CAD  (01/01/2018 - 04/22/2020)\n",
    "\n",
    "\n",
    "https://shakepay.github.io/programming-exercise/web/rates_CAD_BTC.json\n",
    "```\n",
    "    {\n",
    "        \"pair\": \"CAD_BTC\",\n",
    "        \"midMarketRate\": 17678.38333333333,\n",
    "        \"createdAt\": \"2018-01-01T00:00:00.000Z\"\n",
    "    },\n",
    "```\n",
    "\n",
    "\n",
    "### API: Conversion rates for ETH/CAD  (07/13/2018 - 04/22/2020)\n",
    "\n",
    "\n",
    "\n",
    "https://shakepay.github.io/programming-exercise/web/rates_CAD_ETH.json\n",
    "```\n",
    "    {\n",
    "        \"pair\": \"CAD_ETH\",\n",
    "        \"midMarketRate\": 576.0677778268919,\n",
    "        \"createdAt\": \"2018-07-13T03:41:00.000Z\"\n",
    "    },\n",
    "```\n",
    "\n",
    "---\n",
    "\n",
    "### API: Your transactions history containing credits, debits, and conversions   (01/17/2018 - 04/20/2020)\n",
    "https://shakepay.github.io/programming-exercise/web/transaction_history.json \n",
    "\n",
    "\n",
    "```\n",
    "        {\n",
    "            \"createdAt\": \"2018-01-17T18:23:26.696Z\",\n",
    "            \"amount\": 5.21,\n",
    "            \"currency\": \"CAD\",\n",
    "            \"direction\": \"credit\",  ---> CREDIT / DEBIT / NONE=conversion\n",
    "        },\n",
    "\n",
    "        {\n",
    "            \"createdAt\": \"2020-02-07T03:07:52.330Z\",\n",
    "            \"amount\": 5,\n",
    "            \"currency\": \"CAD\",\n",
    "            \"direction\": null,\n",
    "            \"to\": {\n",
    "                \"currency\": \"BTC\",\n",
    "                \"amount\": 0.00038096\n",
    "            }\n",
    "        },\n",
    "```\n",
    "\n",
    "---\n",
    "### Formula: How to calculate your net worth (for any given day)\n",
    "- `net_worth` = `CAD_balance` + `BTC * rate` + `ETH * rate`\n",
    "\n",
    "\n",
    "\n",
    "-------"
   ]
  },
  {
   "cell_type": "markdown",
   "id": "8657900a",
   "metadata": {
    "pycharm": {
     "name": "#%% md\n"
    }
   },
   "source": [
    "# <center> SOLUTION </center>\n",
    "-----"
   ]
  },
  {
   "cell_type": "code",
   "execution_count": 1,
   "id": "2f8be77d",
   "metadata": {
    "pycharm": {
     "name": "#%%\n"
    }
   },
   "outputs": [],
   "source": [
    "import requests as requests\n",
    "import matplotlib.pyplot as plt"
   ]
  },
  {
   "cell_type": "markdown",
   "id": "ad588905",
   "metadata": {
    "pycharm": {
     "name": "#%% md\n"
    }
   },
   "source": [
    "### (1) Rates\n",
    "\n",
    "Create a dictionary with currency, rate, dates\n",
    "```\n",
    "{\n",
    "    'BTC': {'2018-01-01': 17678.38333333333, date2: rate2, ...},\n",
    "    'ETH: {'2018-01-17': 576.0677778268919, date2: rate2, ...}\n",
    "}\n"
   ]
  },
  {
   "cell_type": "code",
   "execution_count": 2,
   "id": "196110fa",
   "metadata": {
    "pycharm": {
     "name": "#%%\n"
    }
   },
   "outputs": [],
   "source": [
    "btc_rates = requests.get(\"https://shakepay.github.io/programming-exercise/web/rates_CAD_BTC.json\").json()"
   ]
  },
  {
   "cell_type": "code",
   "execution_count": 3,
   "id": "30e11c2b",
   "metadata": {
    "pycharm": {
     "name": "#%%\n"
    }
   },
   "outputs": [],
   "source": [
    "eth_rates = requests.get(\"https://shakepay.github.io/programming-exercise/web/rates_CAD_ETH.json\").json()"
   ]
  },
  {
   "cell_type": "code",
   "execution_count": 4,
   "id": "ed64db84",
   "metadata": {
    "pycharm": {
     "name": "#%%\n"
    }
   },
   "outputs": [],
   "source": [
    "rates = {\n",
    "    'ETH': {rate['createdAt'][:10]: rate['midMarketRate'] for rate in eth_rates},\n",
    "    'BTC': {rate['createdAt'][:10]: rate['midMarketRate'] for rate in btc_rates},\n",
    "}"
   ]
  },
  {
   "cell_type": "markdown",
   "id": "21b330e4",
   "metadata": {
    "pycharm": {
     "name": "#%% md\n"
    }
   },
   "source": [
    "Create lookup function for a transaction date's rate"
   ]
  },
  {
   "cell_type": "code",
   "execution_count": 5,
   "id": "67dd9a04",
   "metadata": {
    "pycharm": {
     "name": "#%%\n"
    }
   },
   "outputs": [],
   "source": [
    "btc_dates = list(rates['BTC'].keys())\n",
    "eth_dates = list(rates['ETH'].keys())"
   ]
  },
  {
   "cell_type": "code",
   "execution_count": 6,
   "id": "7cb0f57d",
   "metadata": {
    "pycharm": {
     "name": "#%%\n"
    }
   },
   "outputs": [],
   "source": [
    "def get_rate(currency, date):\n",
    "\n",
    "    try:\n",
    "        return rates[currency][date]\n",
    "\n",
    "    \n",
    "    # if rate doesn't exist for a transaction's date, then return the next rate\n",
    "    except KeyError:\n",
    "\n",
    "        if currency == 'BTC':\n",
    "            lst = list(rates['BTC'].keys())\n",
    "            lst.append(date)\n",
    "            tmr_index = sorted(lst).index(date) + 1\n",
    "            date =  btc_dates[tmr_index]\n",
    "            return rates['BTC'][date]\n",
    "        \n",
    "        if currency == 'ETH':\n",
    "            lst = list(rates['ETH'].keys())\n",
    "            lst.append(date)\n",
    "            srted_lst = sorted(lst)\n",
    "            tmr_index = srted_lst.index(date) + 1\n",
    "            date = eth_dates[tmr_index]\n",
    "            return rates['ETH'][date]\n",
    "\n"
   ]
  },
  {
   "cell_type": "markdown",
   "id": "7bad80fb",
   "metadata": {
    "pycharm": {
     "name": "#%% md\n"
    }
   },
   "source": [
    "### (2) Transactions\n",
    "\n",
    "\n",
    "\n",
    "Iterate through transaction history dictionaries\n",
    "- update the balance in a global `balance` dictionary\n",
    "- calculate daily net worth and store it in a global `net_worth_by_day` dictionary\n"
   ]
  },
  {
   "cell_type": "code",
   "execution_count": 7,
   "id": "a032757a",
   "metadata": {
    "pycharm": {
     "name": "#%%\n"
    }
   },
   "outputs": [],
   "source": [
    "data = requests.get(\"https://shakepay.github.io/programming-exercise/web/transaction_history.json\").json()"
   ]
  },
  {
   "cell_type": "code",
   "execution_count": 8,
   "id": "e00a27e3",
   "metadata": {
    "pycharm": {
     "name": "#%%\n"
    }
   },
   "outputs": [],
   "source": [
    "transactions = sorted(data, key=lambda d: d['createdAt'])"
   ]
  },
  {
   "cell_type": "code",
   "execution_count": 9,
   "id": "c4498ab9",
   "metadata": {
    "pycharm": {
     "name": "#%%\n"
    }
   },
   "outputs": [],
   "source": [
    "balance = {\n",
    "    \"CAD\": 0,\n",
    "    \"BTC\": 0,\n",
    "    \"ETH\": 0\n",
    "}"
   ]
  },
  {
   "cell_type": "code",
   "execution_count": 10,
   "id": "f429cb3f",
   "metadata": {
    "pycharm": {
     "name": "#%%\n"
    }
   },
   "outputs": [],
   "source": [
    "net_worth_by_day = {}"
   ]
  },
  {
   "cell_type": "code",
   "execution_count": 11,
   "id": "497c83e4",
   "metadata": {
    "pycharm": {
     "name": "#%%\n"
    }
   },
   "outputs": [],
   "source": [
    "def calculate_net_worth(transactions):\n",
    "\n",
    "    for txn in transactions:\n",
    "        \n",
    "        # create variables, make more readable for dict calculations\n",
    "        currency = txn['currency'] \n",
    "        amount = txn['amount']\n",
    "        date = txn['createdAt'][:10]\n",
    "\n",
    "        \n",
    "        # subtract debits, add credits \n",
    "        if txn['direction'] == 'debit':\n",
    "            balance[currency] -= amount\n",
    "\n",
    "        if txn['direction'] == 'credit':\n",
    "            balance[currency] += amount\n",
    "\n",
    "        # handle conversions\n",
    "        if txn['direction'] is None:\n",
    "\n",
    "            # subtract before-conversion amounts\n",
    "            balance[currency] -= amount\n",
    "\n",
    "            # add after-conversion amounts\n",
    "            to_currency = txn['to']['currency']\n",
    "            to_amount = txn['to']['amount']\n",
    "            balance[to_currency] += to_amount\n",
    "\n",
    "        # update global balance\n",
    "        txn['balance'] = balance\n",
    "\n",
    "        # calculate net balance with relevant rates\n",
    "        net = (\n",
    "                balance['CAD'] +\n",
    "                (balance['BTC'] * get_rate('BTC', date)) + \n",
    "                (balance['ETH'] * get_rate('ETH', date))\n",
    "        )/1000000 \n",
    "        \n",
    "        # make it compatible with chart\n",
    "        net_worth = float(format(net, \".3f\"))\n",
    "\n",
    "        # add only 1 entry per transaction\n",
    "        net_worth_by_day.update({date: net_worth}) \n",
    "\n",
    "    return net_worth_by_day\n",
    "    "
   ]
  },
  {
   "cell_type": "markdown",
   "id": "ac603d8a",
   "metadata": {
    "pycharm": {
     "name": "#%% md\n"
    }
   },
   "source": [
    "### Final balance & Net Worth By Day"
   ]
  },
  {
   "cell_type": "code",
   "execution_count": 12,
   "id": "4c73aa28",
   "metadata": {
    "pycharm": {
     "name": "#%%\n"
    }
   },
   "outputs": [
    {
     "data": {
      "text/plain": [
       "{'CAD': 0, 'BTC': 0, 'ETH': 0}"
      ]
     },
     "execution_count": 12,
     "metadata": {},
     "output_type": "execute_result"
    }
   ],
   "source": [
    "balance"
   ]
  },
  {
   "cell_type": "code",
   "execution_count": 13,
   "id": "dd915e00",
   "metadata": {
    "pycharm": {
     "name": "#%%\n"
    }
   },
   "outputs": [
    {
     "data": {
      "text/plain": [
       "{'2018-01-17': 0.018,\n",
       " '2018-01-25': 0.017,\n",
       " '2018-01-26': 0.017,\n",
       " '2018-01-27': 0.017,\n",
       " '2018-02-14': 0.017,\n",
       " '2018-02-15': 0.039,\n",
       " '2018-02-19': 0.043,\n",
       " '2018-02-21': 0.043,\n",
       " '2018-02-22': 0.064,\n",
       " '2018-02-23': 0.065,\n",
       " '2018-02-25': 0.064,\n",
       " '2018-02-26': 0.064,\n",
       " '2018-02-28': 0.069,\n",
       " '2018-03-01': 0.066,\n",
       " '2018-03-02': 0.067,\n",
       " '2018-03-05': 0.071,\n",
       " '2018-03-06': 0.074,\n",
       " '2018-03-16': 0.056,\n",
       " '2018-03-20': 0.057,\n",
       " '2018-03-23': 0.058,\n",
       " '2018-03-29': 9.237,\n",
       " '2018-03-30': 8.26,\n",
       " '2018-04-10': 7.418,\n",
       " '2018-04-12': 7.53,\n",
       " '2018-04-18': 8.72,\n",
       " '2018-04-19': 8.977,\n",
       " '2018-04-25': 9.389,\n",
       " '2018-05-02': 10.253,\n",
       " '2018-05-05': 10.651,\n",
       " '2018-05-08': 10.288,\n",
       " '2018-05-14': 9.839,\n",
       " '2018-05-24': 8.491,\n",
       " '2018-05-30': 8.411,\n",
       " '2018-06-08': 8.628,\n",
       " '2018-06-15': 7.724,\n",
       " '2018-06-18': 7.529,\n",
       " '2018-07-03': 7.638,\n",
       " '2018-07-05': 7.541,\n",
       " '2018-07-10': 7.607,\n",
       " '2018-07-11': 7.263,\n",
       " '2018-07-12': 7.246,\n",
       " '2018-07-23': 8.423,\n",
       " '2018-07-25': 9.637,\n",
       " '2018-07-27': 9.458,\n",
       " '2018-07-30': 9.467,\n",
       " '2018-08-13': 7.538,\n",
       " '2018-08-14': 7.501,\n",
       " '2018-08-15': 7.398,\n",
       " '2018-08-17': 7.534,\n",
       " '2018-08-20': 7.646,\n",
       " '2018-08-21': 7.472,\n",
       " '2018-08-22': 7.628,\n",
       " '2018-08-23': 7.492,\n",
       " '2018-08-27': 7.883,\n",
       " '2018-08-28': 8.069,\n",
       " '2018-08-29': 8.275,\n",
       " '2018-08-30': 8.21,\n",
       " '2018-09-06': 7.804,\n",
       " '2018-09-07': 7.657,\n",
       " '2018-09-11': 7.544,\n",
       " '2018-09-12': 4.138,\n",
       " '2018-09-19': 4.07,\n",
       " '2018-09-24': 4.301,\n",
       " '2018-09-27': 4.209,\n",
       " '2018-10-02': 4.217,\n",
       " '2018-10-03': 4.142,\n",
       " '2018-10-04': 4.118,\n",
       " '2018-10-06': 4.177,\n",
       " '2018-10-15': 4.031,\n",
       " '2018-10-16': 4.186,\n",
       " '2018-10-21': 4.197,\n",
       " '2018-10-22': 4.19,\n",
       " '2018-10-23': 4.192,\n",
       " '2018-10-26': 4.166,\n",
       " '2018-11-02': 4.143,\n",
       " '2018-11-05': 4.192,\n",
       " '2018-11-08': 4.25,\n",
       " '2018-11-15': 3.73,\n",
       " '2018-11-16': 3.661,\n",
       " '2018-11-20': 3.139,\n",
       " '2018-11-22': 3.003,\n",
       " '2018-11-28': 2.507,\n",
       " '2018-11-30': 2.808,\n",
       " '2018-12-01': 2.645,\n",
       " '2018-12-10': 2.379,\n",
       " '2018-12-11': 2.306,\n",
       " '2018-12-12': 2.261,\n",
       " '2018-12-14': 2.204,\n",
       " '2018-12-21': 2.766,\n",
       " '2019-01-04': 2.553,\n",
       " '2019-01-07': 2.704,\n",
       " '2019-01-08': 2.664,\n",
       " '2019-01-09': 2.641,\n",
       " '2019-01-15': 2.417,\n",
       " '2019-01-16': 2.369,\n",
       " '2019-01-17': 2.377,\n",
       " '2019-01-18': 2.4,\n",
       " '2019-01-21': 2.331,\n",
       " '2019-01-22': 2.343,\n",
       " '2019-01-24': 2.364,\n",
       " '2019-01-28': 2.326,\n",
       " '2019-02-04': 2.181,\n",
       " '2019-02-08': 2.209,\n",
       " '2019-02-11': 2.368,\n",
       " '2019-02-13': 2.363,\n",
       " '2019-02-16': 2.354,\n",
       " '2019-02-25': 2.45,\n",
       " '2019-03-01': 2.488,\n",
       " '2019-03-04': 2.511,\n",
       " '2019-03-05': 2.464,\n",
       " '2019-03-06': 2.555,\n",
       " '2019-03-07': 2.576,\n",
       " '2019-03-08': 2.58,\n",
       " '2019-03-11': 2.601,\n",
       " '2019-03-12': 2.566,\n",
       " '2019-03-14': 2.556,\n",
       " '2019-03-15': 2.586,\n",
       " '2019-03-21': 2.687,\n",
       " '2019-03-29': 2.705,\n",
       " '2019-04-01': 2.741,\n",
       " '2019-04-02': 2.751,\n",
       " '2019-04-08': 3.432,\n",
       " '2019-04-09': 3.496,\n",
       " '2019-04-12': 3.374,\n",
       " '2019-04-15': 3.43,\n",
       " '2019-04-16': 3.37,\n",
       " '2019-04-18': 3.484,\n",
       " '2019-04-22': 3.543,\n",
       " '2019-04-24': 3.701,\n",
       " '2019-04-30': 3.445,\n",
       " '2019-05-02': 3.554,\n",
       " '2019-05-03': 3.613,\n",
       " '2019-05-06': 3.815,\n",
       " '2019-05-09': 4.09,\n",
       " '2019-05-11': 4.222,\n",
       " '2019-05-16': 5.424,\n",
       " '2019-06-04': 5.377,\n",
       " '2019-06-10': 4.987,\n",
       " '2019-06-26': 7.499,\n",
       " '2019-06-28': 7.067,\n",
       " '2019-07-03': 6.869,\n",
       " '2019-07-15': 6.516,\n",
       " '2019-07-17': 6.137,\n",
       " '2019-07-23': 6.643,\n",
       " '2019-07-31': 6.213,\n",
       " '2019-08-01': 6.495,\n",
       " '2019-08-07': 7.306,\n",
       " '2019-08-08': 7.691,\n",
       " '2019-08-12': 7.47,\n",
       " '2019-08-13': 7.367,\n",
       " '2019-08-16': 6.746,\n",
       " '2019-08-19': 6.727,\n",
       " '2019-08-20': 7.119,\n",
       " '2019-08-21': 7.027,\n",
       " '2019-09-12': 6.569,\n",
       " '2019-09-16': 6.676,\n",
       " '2019-09-18': 6.606,\n",
       " '2019-09-25': 5.628,\n",
       " '2019-09-27': 5.307,\n",
       " '2019-10-01': 5.398,\n",
       " '2019-10-04': 5.336,\n",
       " '2019-10-11': 5.557,\n",
       " '2019-10-14': 5.153,\n",
       " '2019-10-15': 5.294,\n",
       " '2019-10-16': 5.153,\n",
       " '2019-10-30': 6.084,\n",
       " '2019-11-04': 5.94,\n",
       " '2019-11-26': 4.632,\n",
       " '2019-11-27': 4.657,\n",
       " '2019-12-02': 4.807,\n",
       " '2019-12-04': 4.742,\n",
       " '2019-12-05': 4.677,\n",
       " '2019-12-06': 4.8,\n",
       " '2019-12-18': 4.307,\n",
       " '2019-12-23': 4.87,\n",
       " '2019-12-27': 4.669,\n",
       " '2020-01-02': 4.658,\n",
       " '2020-01-07': 5.029,\n",
       " '2020-01-08': 5.275,\n",
       " '2020-01-09': 5.204,\n",
       " '2020-01-13': 5.29,\n",
       " '2020-01-14': 5.246,\n",
       " '2020-01-16': 5.692,\n",
       " '2020-01-24': 5.427,\n",
       " '2020-01-29': 6.057,\n",
       " '2020-01-31': 6.13,\n",
       " '2020-02-04': 5.993,\n",
       " '2020-02-05': 5.919,\n",
       " '2020-02-06': 6.205,\n",
       " '2020-02-07': 6.298,\n",
       " '2020-02-20': 6.211,\n",
       " '2020-02-26': 6.025,\n",
       " '2020-02-27': 5.69,\n",
       " '2020-03-01': 5.529,\n",
       " '2020-03-16': 3.519,\n",
       " '2020-04-06': 4.418,\n",
       " '2020-04-09': 4.796,\n",
       " '2020-04-20': 4.648}"
      ]
     },
     "execution_count": 13,
     "metadata": {},
     "output_type": "execute_result"
    }
   ],
   "source": [
    "calculate_net_worth(transactions)"
   ]
  },
  {
   "cell_type": "markdown",
   "id": "42b38244",
   "metadata": {
    "pycharm": {
     "name": "#%% md\n"
    }
   },
   "source": [
    "### (3) Chart\n",
    "\n",
    "- server: https://github.com/taniabatista/crypto-prices/blob/main/server.py\n"
   ]
  },
  {
   "cell_type": "code",
   "execution_count": 14,
   "id": "7348ddbc",
   "metadata": {
    "pycharm": {
     "name": "#%%\n"
    }
   },
   "outputs": [
    {
     "data": {
      "image/png": "[encoded data removed]",
      "text/plain": [
       "<Figure size 432x288 with 1 Axes>"
      ]
     },
     "metadata": {
      "needs_background": "light"
     },
     "output_type": "display_data"
    }
   ],
   "source": [
    "x = list(net_worth_by_day.keys())[::3] # take every 3, more readable\n",
    "y = list(net_worth_by_day.values())[::3]\n",
    "\n",
    "plt.plot(x, y, color='green', linestyle='dashed', linewidth = 3, marker='o', markerfacecolor='blue', markersize=5)\n",
    "plt.xlabel('Date')\n",
    "plt.ylabel('Canadian net worth in millions') # need to break down more\n",
    "\n",
    "plt.xticks(ticks=range(len(x)), rotation=90, size=5)\n",
    "plt.yticks(size=12)\n",
    "\n",
    "plt.title('Net Worth By Day!')\n",
    "\n",
    "plt.show()"
   ]
  },
  {
   "cell_type": "code",
   "execution_count": null,
   "id": "2f1e864a",
   "metadata": {
    "pycharm": {
     "name": "#%%\n"
    }
   },
   "outputs": [],
   "source": []
  }
 ],
 "metadata": {
  "kernelspec": {
   "display_name": "Python 3 (ipykernel)",
   "language": "python",
   "name": "python3"
  },
  "language_info": {
   "codemirror_mode": {
    "name": "ipython",
    "version": 3
   },
   "file_extension": ".py",
   "mimetype": "text/x-python",
   "name": "python",
   "nbconvert_exporter": "python",
   "pygments_lexer": "ipython3",
   "version": "3.8.9"
  }
 },
 "nbformat": 4,
 "nbformat_minor": 5
}