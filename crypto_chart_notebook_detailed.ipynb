{
 "cells": [
  {
   "cell_type": "markdown",
   "source": [
    "# <center> DISPLAY NET WORTH OVER TIME</center>\n",
    "\n",
    "\n",
    "![image-3.png](attachment:image-3.png)\n",
    "\n",
    "\n",
    "\n",
    "</br>\n",
    "\n",
    "\n",
    "\n",
    "<center> net worth by day = CAD + (BTC * rate) + (ETH * rate) </center>\n",
    "\n",
    "\n",
    "\n",
    "    \n",
    "---"
   ],
   "metadata": {
    "collapsed": false,
    "pycharm": {
     "name": "#%% md\n"
    }
   }
  },
  {
   "cell_type": "markdown",
   "source": [
    "\n",
    "\n",
    "## RESOURCES\n",
    "\n",
    "<br/>\n",
    "\n",
    "\n",
    "### (1) Transactions history API: debits, credits, conversions\n",
    "\n",
    "- https://shakepay.github.io/programming-exercise/web/transaction_history.json \n",
    "\n",
    "- Dates: `04-20-2020` to `01-17-2018`\n",
    "\n",
    "- Example data:\n",
    "\n",
    "\n",
    "<br/>\n",
    "\n",
    "```json\n",
    "{\n",
    "    \"createdAt\": \"2020-22-07T03:07:52.330Z\",\n",
    "    \"amount\": 5,\n",
    "    \"currency\": \"CAD\",\n",
    "    \"type\": \"conversion\",\n",
    "    \"direction\": null,\n",
    "    \"to\": {\n",
    "        \"currency\": \"BTC\",\n",
    "        \"amount\": 0.00038096\n",
    "    }\n",
    "},\n",
    "{\n",
    "    \"createdAt\": \"2018-01-17T18:23:26.696Z\",\n",
    "    \"amount\": 5.21,\n",
    "    \"currency\": \"CAD\",\n",
    "    \"type\": \"peer\",\n",
    "    \"direction\": \"credit\",\n",
    "}\n",
    "```\n",
    "\n",
    "<br/>\n",
    "\n",
    "\n",
    "### (2)  BTC / CAD Conversion rates API\n",
    "\n",
    "- https://shakepay.github.io/programming-exercise/web/rates_CAD_BTC.json\n",
    "\n",
    "- Dates: `01-01-2018`  to  `04-22-2020` \n",
    "\n",
    "- Example data:\n",
    "\n",
    "<br/>\n",
    "\n",
    "```json\n",
    "{\n",
    "    \"pair\": \"CAD_BTC\",\n",
    "    \"midMarketRate\": 17678.38333333333,\n",
    "    \"createdAt\": \"2018-01-01T00:00:00.000Z\"\n",
    "},\n",
    "{\n",
    "    \"pair\": \"CAD_BTC\",\n",
    "    \"midMarketRate\": 8998.290958547408,\n",
    "    \"createdAt\": \"2020-04-22T00:00:01.155Z\"\n",
    "}\n",
    "```\n",
    "\n",
    "<br/>\n",
    "\n",
    "\n",
    "### (3) ETH / CAD Conversion rates API\n",
    "\n",
    "- https://shakepay.github.io/programming-exercise/web/rates_CAD_ETH.json\n",
    "\n",
    "- Dates: `07-13-2018` to `04-22-2020`\n",
    "\n",
    "- Example data:\n",
    "\n",
    "<br/>\n",
    "\n",
    "```json\n",
    "{\n",
    "    \"pair\": \"CAD_ETH\",\n",
    "    \"midMarketRate\": 576.0677778268919,\n",
    "    \"createdAt\": \"2018-07-13T03:41:00.000Z\"\n",
    "},\n",
    "{\n",
    "    \"pair\": \"CAD_ETH\",\n",
    "    \"midMarketRate\": 224.5528634739765,\n",
    "    \"createdAt\": \"2020-04-22T00:00:01.155Z\"\n",
    "}\n",
    "```\n",
    "\n",
    "<br/>\n",
    "\n",
    "\n",
    "\n",
    "[Full instructions](https://shakepay.github.io/programming-exercise/web)\n",
    "\n",
    "\n",
    "-------\n"
   ],
   "metadata": {
    "collapsed": false,
    "pycharm": {
     "name": "#%% md\n"
    }
   }
  },
  {
   "cell_type": "markdown",
   "source": [
    "# <center> SOLUTION </center>\n"
   ],
   "metadata": {
    "collapsed": false,
    "pycharm": {
     "name": "#%% md\n"
    }
   }
  },
  {
   "cell_type": "markdown",
   "source": [
    "### Step 1: Get daily rates\n",
    "\n",
    "Create a dictionary with the CAD/BTC and CAD/ETH exchange rates by date:\n",
    "```json\n",
    "{\n",
    "    'BTC': {'2018-01-01': 17678.38333333333, date2: rate2, ...},\n",
    "    'ETH': {'2018-01-17': 576.0677778268919, date2: rate2, ...}\n",
    "}\n",
    "```\n",
    "\n",
    "Then create a function to look up the daily rate for any transaction: `get_date(currency, date)` \n",
    "\n",
    "\n",
    "            "
   ],
   "metadata": {
    "collapsed": false,
    "pycharm": {
     "name": "#%% md\n"
    }
   }
  },
  {
   "cell_type": "code",
   "execution_count": null,
   "outputs": [],
   "source": [
    "import requests as requests\n",
    "import matplotlib.pyplot as plt"
   ],
   "metadata": {
    "collapsed": false,
    "pycharm": {
     "name": "#%%\n"
    }
   }
  },
  {
   "cell_type": "code",
   "execution_count": null,
   "outputs": [],
   "source": [
    "btc_rates = requests.get(\"https://shakepay.github.io/programming-exercise/web/rates_CAD_BTC.json\").json()"
   ],
   "metadata": {
    "collapsed": false,
    "pycharm": {
     "name": "#%%\n"
    }
   }
  },
  {
   "cell_type": "code",
   "execution_count": null,
   "outputs": [],
   "source": [
    "eth_rates = requests.get(\"https://shakepay.github.io/programming-exercise/web/rates_CAD_ETH.json\").json()"
   ],
   "metadata": {
    "collapsed": false,
    "pycharm": {
     "name": "#%%\n"
    }
   }
  },
  {
   "cell_type": "code",
   "execution_count": null,
   "outputs": [],
   "source": [
    "rates = {\n",
    "    'ETH': {rate['createdAt'][:10]: rate['midMarketRate'] for rate in eth_rates},\n",
    "    'BTC': {rate['createdAt'][:10]: rate['midMarketRate'] for rate in btc_rates},\n",
    "}"
   ],
   "metadata": {
    "collapsed": false,
    "pycharm": {
     "name": "#%%\n"
    }
   }
  },
  {
   "cell_type": "code",
   "execution_count": null,
   "outputs": [],
   "source": [
    "btc_dates = list(rates['BTC'].keys())\n",
    "eth_dates = list(rates['ETH'].keys())"
   ],
   "metadata": {
    "collapsed": false,
    "pycharm": {
     "name": "#%%\n"
    }
   }
  },
  {
   "cell_type": "code",
   "execution_count": null,
   "outputs": [],
   "source": [
    "def get_rate(currency, date):\n",
    "\n",
    "    try:\n",
    "        return rates[currency][date]\n",
    "\n",
    "    \n",
    "    # if rate doesn't exist for a transaction's date, then return the next rate\n",
    "    except KeyError:\n",
    "\n",
    "        if currency == 'BTC':\n",
    "            lst = list(rates['BTC'].keys())\n",
    "            lst.append(date)\n",
    "            tmr_index = sorted(lst).index(date) + 1\n",
    "            date =  btc_dates[tmr_index]\n",
    "            return rates['BTC'][date]\n",
    "        \n",
    "        if currency == 'ETH':\n",
    "            lst = list(rates['ETH'].keys())\n",
    "            lst.append(date)\n",
    "            srted_lst = sorted(lst)\n",
    "            tmr_index = srted_lst.index(date) + 1\n",
    "            date = eth_dates[tmr_index]\n",
    "            return rates['ETH'][date]\n",
    "\n"
   ],
   "metadata": {
    "collapsed": false,
    "pycharm": {
     "name": "#%%\n"
    }
   }
  },
  {
   "cell_type": "markdown",
   "source": [
    "-----\n",
    "\n",
    "### Step 2: Track the balance after every transaction\n",
    "\n",
    "\n",
    "\n",
    "Iterate through transaction history dictionaries.\n",
    "- create a global `balance` dictionary, then upate it after every transaction\n",
    "- calculate daily net worth, then store it in a global `net_worth_by_day` dictionary\n"
   ],
   "metadata": {
    "collapsed": false,
    "pycharm": {
     "name": "#%% md\n"
    }
   }
  },
  {
   "cell_type": "code",
   "execution_count": null,
   "outputs": [],
   "source": [
    "data = requests.get(\"https://shakepay.github.io/programming-exercise/web/transaction_history.json\").json()"
   ],
   "metadata": {
    "collapsed": false,
    "pycharm": {
     "name": "#%%\n"
    }
   }
  },
  {
   "cell_type": "code",
   "execution_count": null,
   "outputs": [],
   "source": [
    "transactions = sorted(data, key=lambda d: d['createdAt'])"
   ],
   "metadata": {
    "collapsed": false,
    "pycharm": {
     "name": "#%%\n"
    }
   }
  },
  {
   "cell_type": "code",
   "execution_count": null,
   "outputs": [],
   "source": [
    "def calculate_net_worth(transactions):\n",
    "    \n",
    "    balance = {\n",
    "        \"CAD\": 0,\n",
    "        \"BTC\": 0,\n",
    "        \"ETH\": 0\n",
    "    }\n",
    "\n",
    "    net_worth_by_day = {}\n",
    "\n",
    "    for txn in transactions:\n",
    "        \n",
    "        # create variables, make more readable for dict calculations\n",
    "        currency = txn['currency'] \n",
    "        amount = txn['amount']\n",
    "        date = txn['createdAt'][:10]\n",
    "\n",
    "        \n",
    "        # subtract debits, add credits \n",
    "        if txn['direction'] == 'debit':\n",
    "            balance[currency] -= amount\n",
    "\n",
    "        if txn['direction'] == 'credit':\n",
    "            balance[currency] += amount\n",
    "\n",
    "        # handle conversions\n",
    "        if txn['direction'] is None:\n",
    "\n",
    "            # subtract before-conversion amounts\n",
    "            balance[currency] -= amount\n",
    "\n",
    "            # add after-conversion amounts\n",
    "            to_currency = txn['to']['currency']\n",
    "            to_amount = txn['to']['amount']\n",
    "            balance[to_currency] += to_amount\n",
    "\n",
    "        # update global balance\n",
    "        txn['balance'] = balance\n",
    "\n",
    "        # calculate net balance with relevant rates\n",
    "        net = (\n",
    "                balance['CAD'] +\n",
    "                (balance['BTC'] * get_rate('BTC', date)) + \n",
    "                (balance['ETH'] * get_rate('ETH', date))\n",
    "        )/1000000 \n",
    "        \n",
    "        # make it compatible with chart\n",
    "        net_worth = float(format(net, \".3f\"))\n",
    "\n",
    "        # add only 1 entry per transaction\n",
    "        net_worth_by_day.update({date: net_worth}) \n",
    "\n",
    "    return net_worth_by_day, balance\n",
    "    "
   ],
   "metadata": {
    "collapsed": false,
    "pycharm": {
     "name": "#%%\n"
    }
   }
  },
  {
   "cell_type": "code",
   "execution_count": null,
   "outputs": [],
   "source": [
    "net_worth_by_day, balance = calculate_net_worth(transactions)"
   ],
   "metadata": {
    "collapsed": false,
    "pycharm": {
     "name": "#%%\n"
    }
   }
  },
  {
   "cell_type": "code",
   "execution_count": null,
   "outputs": [],
   "source": [
    "net_worth_by_day.get('2018-01-17')  # First day of transactions"
   ],
   "metadata": {
    "collapsed": false,
    "pycharm": {
     "name": "#%%\n"
    }
   }
  },
  {
   "cell_type": "code",
   "execution_count": null,
   "outputs": [],
   "source": [
    "net_worth_by_day.get('2020-04-20')  # Last day of transaction history"
   ],
   "metadata": {
    "collapsed": false,
    "pycharm": {
     "name": "#%%\n"
    }
   }
  },
  {
   "cell_type": "code",
   "execution_count": null,
   "outputs": [],
   "source": [
    "balance  # Final balances"
   ],
   "metadata": {
    "collapsed": false,
    "pycharm": {
     "name": "#%%\n"
    }
   }
  },
  {
   "cell_type": "markdown",
   "source": [
    "---\n",
    "### Step 3: Create net worth chart\n",
    "\n",
    "- server: https://github.com/taniabatista/crypto-prices/blob/main/server.py\n"
   ],
   "metadata": {
    "collapsed": false,
    "pycharm": {
     "name": "#%% md\n"
    }
   }
  },
  {
   "cell_type": "code",
   "execution_count": null,
   "outputs": [],
   "source": [
    "x = list(net_worth_by_day.keys())[::3]\n",
    "y = list(net_worth_by_day.values())[::3]\n",
    "\n",
    "plt.plot(x, y, color='green', linestyle='dashed', linewidth = 3, marker='o', markerfacecolor='blue', markersize=5)\n",
    "plt.xlabel('Date')\n",
    "plt.ylabel('Canadian net worth in millions')\n",
    "\n",
    "plt.xticks(ticks=range(len(x)), rotation=90, size=5)\n",
    "plt.yticks(size=12)\n",
    "\n",
    "plt.title('Net Worth By Day!')\n",
    "\n",
    "plt.show()"
   ],
   "metadata": {
    "collapsed": false,
    "pycharm": {
     "name": "#%%\n"
    }
   }
  },
  {
   "cell_type": "markdown",
   "source": [
    "![net_worth_by_day.png](attachment:net_worth_by_day.png)"
   ],
   "metadata": {
    "collapsed": false,
    "pycharm": {
     "name": "#%% md\n"
    }
   }
  },
  {
   "attachments": {
    "net_worth_by_day.png": {
     "image/png": "[encoded data removed]"
    }
   },
   "cell_type": "markdown",
   "id": "80df61b6",
   "metadata": {
    "pycharm": {
     "name": "#%% md\n"
    }
   },
   "source": [
    "![net_worth_by_day.png](attachment:net_worth_by_day.png)"
   ]
  }
 ],
 "metadata": {
  "kernelspec": {
   "display_name": "Python 3 (ipykernel)",
   "language": "python",
   "name": "python3"
  },
  "language_info": {
   "codemirror_mode": {
    "name": "ipython",
    "version": 3
   },
   "file_extension": ".py",
   "mimetype": "text/x-python",
   "name": "python",
   "nbconvert_exporter": "python",
   "pygments_lexer": "ipython3",
   "version": "3.8.9"
  }
 },
 "nbformat": 4,
 "nbformat_minor": 5
}